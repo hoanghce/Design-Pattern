{
 "cells": [
  {
   "cell_type": "code",
   "execution_count": 1,
   "id": "d5803d09-3627-4188-a7d6-7e12e364a81f",
   "metadata": {},
   "outputs": [],
   "source": [
    "# Một class chỉ nên có 1 trách nhiệm duy nhất\n",
    "class Journal:\n",
    "    def __init__(self):\n",
    "        self.entries = []\n",
    "        self.count = 0\n",
    "    def add_entry(self,text):\n",
    "        self.count += 1\n",
    "        self.entries.append(f'{self.count}: {text}')\n",
    "    def remove_entry(self,pos):\n",
    "         del self.entries[pos]\n",
    "    def __str__(self):\n",
    "        return '\\n'.join(self.entries)\n",
    "    # def save(self,filename):\n",
    "    #     file = open(filename, 'w')\n",
    "    #     file.write(str(self))\n",
    "    #     file.close()\n",
    "    # def load(self, filename):\n",
    "    #     pass\n",
    "\n",
    "class PersistenceManager:\n",
    "    @staticmethod\n",
    "    def save_to_file(journal, filename):\n",
    "        file = open(filename, 'w')\n",
    "        file.write(str(journal))\n",
    "        file.close()\n",
    "\n",
    "file = r'C:\\temp\\journal.txt'\n",
    "    \n"
   ]
  },
  {
   "cell_type": "code",
   "execution_count": 2,
   "id": "1389a16d-f1e5-4d57-9ca5-9cee41d041f9",
   "metadata": {},
   "outputs": [],
   "source": [
    "j = Journal()\n",
    "j.add_entry('I cried Today')\n",
    "j.add_entry('I ate a bug')"
   ]
  },
  {
   "cell_type": "code",
   "execution_count": 3,
   "id": "2ec88c7b-36e0-4455-b0c6-e14ce604dc6d",
   "metadata": {},
   "outputs": [
    {
     "name": "stdout",
     "output_type": "stream",
     "text": [
      "Journal entries: \n",
      "1: I cried Today\n",
      "2: I ate a bug\n"
     ]
    }
   ],
   "source": [
    "print(f'Journal entries: \\n{j}')"
   ]
  },
  {
   "cell_type": "code",
   "execution_count": 4,
   "id": "90b699b1-508c-49a9-9b5e-c42511996758",
   "metadata": {},
   "outputs": [
    {
     "name": "stdout",
     "output_type": "stream",
     "text": [
      "1: I cried Today\n",
      "2: I ate a bug\n"
     ]
    }
   ],
   "source": [
    "PersistenceManager.save_to_file(j,file)\n",
    "with open(file) as fh:\n",
    "    print(fh.read())"
   ]
  },
  {
   "cell_type": "code",
   "execution_count": null,
   "id": "790ecf45-0a55-472d-a63d-1f583eb37afa",
   "metadata": {},
   "outputs": [],
   "source": []
  }
 ],
 "metadata": {
  "kernelspec": {
   "display_name": "Python 3 (ipykernel)",
   "language": "python",
   "name": "python3"
  },
  "language_info": {
   "codemirror_mode": {
    "name": "ipython",
    "version": 3
   },
   "file_extension": ".py",
   "mimetype": "text/x-python",
   "name": "python",
   "nbconvert_exporter": "python",
   "pygments_lexer": "ipython3",
   "version": "3.9.13"
  }
 },
 "nbformat": 4,
 "nbformat_minor": 5
}
