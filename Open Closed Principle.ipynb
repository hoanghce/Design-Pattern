{
 "cells": [
  {
   "cell_type": "code",
   "execution_count": 1,
   "id": "7fd1ebaa-e2e8-4f3f-a87e-8428e0632fd6",
   "metadata": {},
   "outputs": [],
   "source": [
    "from enum import Enum\n",
    "# Nên mở rộng class thay vì thay đổi class gốc"
   ]
  },
  {
   "cell_type": "code",
   "execution_count": 103,
   "id": "9d967e11-48fd-48a9-8a1e-95c34f285c6d",
   "metadata": {},
   "outputs": [],
   "source": [
    "class Color(Enum):\n",
    "    RED = 1\n",
    "    GREEN = 2\n",
    "    BLUE = 3\n",
    "\n",
    "class Size(Enum):\n",
    "    SMALL = 1\n",
    "    MEDIUM = 2\n",
    "    LARGE = 3\n",
    "class Product:\n",
    "    def __init__(self, name, color, size):\n",
    "        self.name = name\n",
    "        self.color = color\n",
    "        self.size = size\n",
    "\n",
    "\n",
    "## OCP = Open for extension, closed for modification\n",
    "class Product_Filter:\n",
    "    def filter_by_color(self, products, color):\n",
    "        for p in products:\n",
    "            if p.color == color: yield p\n",
    "\n",
    "    def filter_by_size(self, products, size):\n",
    "        for p in products:\n",
    "            if p.size == size: yield p\n",
    "\n",
    "    def filter_by_size_and_color(self, products, size, color):\n",
    "        for p in products:\n",
    "            if p.color == color and p.size == size:\n",
    "                yield p\n",
    "\n",
    "class Specification:\n",
    "    def is_satisfied(self, item):\n",
    "        pass\n",
    "    def __and__(self, other):\n",
    "        return AndSpecification(self, other)\n",
    "        \n",
    "class Filter:\n",
    "    def filter(self, items, spec):\n",
    "        pass\n",
    "\n",
    "class ColorSpecification(Specification):\n",
    "    def __init__(self, color):\n",
    "        self.color = color\n",
    "\n",
    "    def is_satisfied(self, item):\n",
    "        return item.color == self.color\n",
    "\n",
    "class SizeSpecification(Specification):\n",
    "    def __init__(self, size):\n",
    "        self.size = size\n",
    "    def is_satisfied(self, item):\n",
    "        return item.size == self.size\n",
    "\n",
    "\n",
    "class AndSpecification(Specification):\n",
    "    def __init__(self, *args):\n",
    "        self.args = args\n",
    "    def is_satisfied(self,item):\n",
    "        return all(\n",
    "            map(\n",
    "                lambda spec: spec.is_satisfied(item), self.args\n",
    "            )\n",
    "        )\n",
    "\n",
    "class BetterFilter(Filter):\n",
    "    def filter(self, items, spec):\n",
    "        for item in items:\n",
    "            if spec.is_satisfied(item):\n",
    "                yield item"
   ]
  },
  {
   "cell_type": "code",
   "execution_count": 104,
   "id": "5c4b04a0-cf69-4a26-a7f3-dd6f00f339ef",
   "metadata": {},
   "outputs": [],
   "source": [
    "apple = Product('Apple',Color.GREEN, Size.SMALL)\n",
    "tree = Product('Tree',Color.GREEN, Size.LARGE)\n",
    "house = Product('House',Color.BLUE, Size.LARGE)\n",
    "\n",
    "products = [apple, tree, house]"
   ]
  },
  {
   "cell_type": "code",
   "execution_count": 105,
   "id": "d4381b01-9e79-4d38-a366-d6c26e2032e4",
   "metadata": {},
   "outputs": [
    {
     "name": "stdout",
     "output_type": "stream",
     "text": [
      "Green products (old):\n",
      "- Apple is green\n",
      "- Tree is green\n"
     ]
    }
   ],
   "source": [
    "pf =  Product_Filter()\n",
    "print('Green products (old):')\n",
    "for p in pf.filter_by_color(products, Color.GREEN):\n",
    "    print(f'- {p.name} is green')"
   ]
  },
  {
   "cell_type": "code",
   "execution_count": 106,
   "id": "c3becf94-b317-4311-a61b-d04d37ea831a",
   "metadata": {},
   "outputs": [
    {
     "name": "stdout",
     "output_type": "stream",
     "text": [
      "Green products (new):\n",
      "- Apple is green\n",
      "- Tree is green\n"
     ]
    }
   ],
   "source": [
    "bf = BetterFilter()\n",
    "print('Green products (new):')\n",
    "green = ColorSpecification(Color.GREEN)\n",
    "for p in bf.filter(products,green):\n",
    "    print(f'- {p.name} is green')"
   ]
  },
  {
   "cell_type": "code",
   "execution_count": 111,
   "id": "07b9bb50-5263-43bf-802e-d029cae9fdef",
   "metadata": {},
   "outputs": [
    {
     "name": "stdout",
     "output_type": "stream",
     "text": [
      "- Tree is large\n",
      "- House is large\n"
     ]
    }
   ],
   "source": [
    "bf = BetterFilter()\n",
    "large = SizeSpecification(Size.LARGE)\n",
    "for p in bf.filter(products,large):\n",
    "    print(f'- {p.name} is large')\n",
    "    \n",
    " "
   ]
  },
  {
   "cell_type": "code",
   "execution_count": 110,
   "id": "11aac497-fe8b-4ad5-89ab-9e0621b49d55",
   "metadata": {},
   "outputs": [
    {
     "data": {
      "text/plain": [
       "True"
      ]
     },
     "execution_count": 110,
     "metadata": {},
     "output_type": "execute_result"
    }
   ],
   "source": [
    "large.is_satisfied(p)"
   ]
  },
  {
   "cell_type": "code",
   "execution_count": 112,
   "id": "32414943-073b-46f0-b7f9-7670e28d0e04",
   "metadata": {},
   "outputs": [
    {
     "name": "stdout",
     "output_type": "stream",
     "text": [
      "Large Blue Items: \n",
      " - House is large and blue\n"
     ]
    }
   ],
   "source": [
    "print('Large Blue Items: ')\n",
    "large_blue = AndSpecification(large, ColorSpecification(Color.BLUE))\n",
    "for p in bf.filter(products, large_blue):\n",
    "    print(f' - {p.name} is large and blue')\n",
    "    "
   ]
  },
  {
   "cell_type": "code",
   "execution_count": 113,
   "id": "501fdb00-e349-4799-8bbc-94f8b25d7969",
   "metadata": {},
   "outputs": [
    {
     "name": "stdout",
     "output_type": "stream",
     "text": [
      "False\n",
      "False\n",
      "True\n"
     ]
    }
   ],
   "source": [
    "for i in products:\n",
    "    print(large_blue.is_satisfied(i))"
   ]
  },
  {
   "cell_type": "code",
   "execution_count": 114,
   "id": "cd728e5e-156e-4272-9561-67364e98f45a",
   "metadata": {},
   "outputs": [
    {
     "name": "stdout",
     "output_type": "stream",
     "text": [
      " - House is large and blue\n"
     ]
    }
   ],
   "source": [
    "large_blue = large&ColorSpecification(Color.BLUE)\n",
    "for p in bf.filter(products, large_blue):\n",
    "    print(f' - {p.name} is large and blue')"
   ]
  },
  {
   "cell_type": "code",
   "execution_count": null,
   "id": "045bccbd-6dbc-41f9-94de-93884cdf8c03",
   "metadata": {},
   "outputs": [],
   "source": []
  },
  {
   "cell_type": "code",
   "execution_count": null,
   "id": "eeaa7999-2691-4f0d-be75-2f9e31294fd7",
   "metadata": {},
   "outputs": [],
   "source": []
  }
 ],
 "metadata": {
  "kernelspec": {
   "display_name": "Python 3 (ipykernel)",
   "language": "python",
   "name": "python3"
  },
  "language_info": {
   "codemirror_mode": {
    "name": "ipython",
    "version": 3
   },
   "file_extension": ".py",
   "mimetype": "text/x-python",
   "name": "python",
   "nbconvert_exporter": "python",
   "pygments_lexer": "ipython3",
   "version": "3.9.13"
  }
 },
 "nbformat": 4,
 "nbformat_minor": 5
}
